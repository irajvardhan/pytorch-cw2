{
 "cells": [
  {
   "cell_type": "markdown",
   "metadata": {},
   "source": [
    "### This notebook has all the original code from Fooling nw intr. On top of that we have an added guided back prop module. However, subsequent calls to this class are failing throwing an error 'tried to call backward twice buffer already cleared, set retain_graph=True'.\n",
    "### Running the code without calling the class object is working normally.\n",
    "### An interesting observation is that the gcam output after being multiplied with img and the guided gradcam output are quite similar."
   ]
  },
  {
   "cell_type": "code",
   "execution_count": 2,
   "metadata": {},
   "outputs": [
    {
     "name": "stderr",
     "output_type": "stream",
     "text": [
      "Using TensorFlow backend.\n"
     ]
    }
   ],
   "source": [
    "import os\n",
    "import argparse\n",
    "import numpy as np\n",
    "import cv2\n",
    "import torch\n",
    "from torch.autograd import Variable\n",
    "from torchvision import models\n",
    "import matplotlib.pyplot as plt\n",
    "from torch.autograd import Function\n",
    "import torch.nn as nn\n",
    "from torchvision import datasets, transforms\n",
    "from keras import datasets as keras_datasets"
   ]
  },
  {
   "cell_type": "code",
   "execution_count": 3,
   "metadata": {
    "collapsed": true
   },
   "outputs": [],
   "source": [
    "NUM_CHANNELS = 1\n",
    "PATCH_SIZE = 14 # it is 64 for 224x224 image\n",
    "IMG_W = 28 # 224 originally\n",
    "IMG_H = 28 # 224 originally\n",
    "# MEANS = np.array([0.1307])\n",
    "# STDS = np.array([0.3081])\n",
    "MEANS = np.array([0.])\n",
    "STDS = np.array([1.])"
   ]
  },
  {
   "cell_type": "code",
   "execution_count": 4,
   "metadata": {
    "collapsed": true
   },
   "outputs": [],
   "source": [
    "class Net(nn.Module):\n",
    "    def __init__(self, features, num_classes, init_weights=True):\n",
    "        super(Net, self).__init__()\n",
    "        \n",
    "        self.features = features\n",
    "        self.classifier = nn.Sequential(\n",
    "            nn.Linear(4*4*50, 500),\n",
    "            nn.ReLU(True),\n",
    "            nn.Linear(500, num_classes)\n",
    "        )\n",
    "        \n",
    "        if init_weights:\n",
    "            self._initialize_weights()\n",
    "\n",
    "    def forward(self, x):\n",
    "        x = self.features(x)\n",
    "        x = torch.flatten(x, 1)\n",
    "        x = self.classifier(x)\n",
    "        \n",
    "        # x are the logits values\n",
    "        return x \n",
    "    \n",
    "    def _initialize_weights(self):\n",
    "        for m in self.modules():\n",
    "            if isinstance(m, nn.Conv2d):\n",
    "                nn.init.kaiming_normal_(m.weight, mode='fan_out', nonlinearity='relu')\n",
    "                if m.bias is not None:\n",
    "                    nn.init.constant_(m.bias, 0)\n",
    "            elif isinstance(m, nn.BatchNorm2d):\n",
    "                nn.init.constant_(m.weight, 1)\n",
    "                nn.init.constant_(m.bias, 0)\n",
    "            elif isinstance(m, nn.Linear):\n",
    "                nn.init.normal_(m.weight, 0, 0.01)\n",
    "                nn.init.constant_(m.bias, 0)"
   ]
  },
  {
   "cell_type": "code",
   "execution_count": 5,
   "metadata": {
    "collapsed": true
   },
   "outputs": [],
   "source": [
    "# for name, module in model._modules.items():\n",
    "#     print('name: ', name)\n",
    "#     print('module: ',module)\n",
    "#     print('\\n')"
   ]
  },
  {
   "cell_type": "code",
   "execution_count": 6,
   "metadata": {
    "collapsed": true
   },
   "outputs": [],
   "source": [
    "\n",
    "# Compute the per channel clamp_min and clamp_max respectively\n",
    "channel_clamp_min = (0 - MEANS) / STDS\n",
    "channel_clamp_max = (1 - MEANS) / STDS"
   ]
  },
  {
   "cell_type": "code",
   "execution_count": 7,
   "metadata": {
    "collapsed": true
   },
   "outputs": [],
   "source": [
    "class FeatureExtractor:\n",
    "    \"\"\" Class for extracting activations and\n",
    "    registering gradients from targeted intermediate layers \"\"\"\n",
    "    def __init__(self, model, target_layers):\n",
    "        self.model = model\n",
    "        self.target_layers = target_layers\n",
    "        self.gradients = []\n",
    "\n",
    "    def save_gradient(self, grad):\n",
    "        self.gradients.append(grad)\n",
    "\n",
    "    def __call__(self, x):\n",
    "        outputs = []\n",
    "        self.gradients = []\n",
    "        for name, module in self.model._modules.items():\n",
    "            x = module(x)\n",
    "            if name in self.target_layers:\n",
    "                # Store the features and register hook to save gradients for the target layer\n",
    "                x.register_hook(self.save_gradient)\n",
    "                outputs += [x]\n",
    "        return outputs, x\n",
    "\n",
    "\n",
    "class ModelOutputs:\n",
    "    \"\"\" Class for making a forward pass, and getting:\n",
    "    1. The network output.\n",
    "    2. Activations from intermediate targeted layers.\n",
    "    3. Gradients from intermediate targeted layers. \"\"\"\n",
    "    def __init__(self, model, target_layers):\n",
    "        self.model = model\n",
    "        self.feature_extractor = FeatureExtractor(self.model.features, target_layers)\n",
    "\n",
    "    def get_gradients(self):\n",
    "        # Retrieve the saved gradients for the target layer\n",
    "        return self.feature_extractor.gradients\n",
    "\n",
    "    def __call__(self, x):\n",
    "        target_activations, output = self.feature_extractor(x)\n",
    "        output = output.view(output.size(0), -1)\n",
    "        output = self.model.classifier(output)\n",
    "        return target_activations, output\n",
    "\n",
    "\n",
    "def preprocess_image(input_image):\n",
    "    \"\"\"\n",
    "    This method normalizes the input image and converts it to a torch Variable\n",
    "    :param input_image: The input image to be pre-processed\n",
    "    :return: torch Variable of the normalized input image\n",
    "    \"\"\"\n",
    "    means = [0.485, 0.456, 0.406]\n",
    "    stds = [0.229, 0.224, 0.225]\n",
    "\n",
    "    normalized_image = input_image.copy()[:, :, ::-1]\n",
    "    for i in range(3):\n",
    "        normalized_image[:, :, i] = normalized_image[:, :, i] - means[i]\n",
    "        normalized_image[:, :, i] = normalized_image[:, :, i] / stds[i]\n",
    "    normalized_image = \\\n",
    "        np.ascontiguousarray(np.transpose(normalized_image, (2, 0, 1)))\n",
    "    normalized_image = torch.from_numpy(normalized_image)\n",
    "    normalized_image.unsqueeze_(0)\n",
    "    normalized_tensor = Variable(normalized_image, requires_grad=True).cuda()\n",
    "    return normalized_tensor\n",
    "\n",
    "# added by raj\n",
    "def preprocess_image_one_ch(input_image):\n",
    "    # use same values as in the transform.normalize method when the FMNIST model is trained\n",
    "    mean = MEANS[0]\n",
    "    std = STDS[0]\n",
    "    normalized_image = input_image.copy()\n",
    "    normalized_image = normalized_image.reshape(normalized_image.shape[0], normalized_image.shape[1], 1)\n",
    "    \n",
    "    normalized_image[:, :, 0] = normalized_image[:, :, 0] - mean\n",
    "    normalized_image[:, :, 0] = normalized_image[:, :, 0] / std\n",
    "    \n",
    "    normalized_image = \\\n",
    "        np.ascontiguousarray(np.transpose(normalized_image, (2, 0, 1)))\n",
    "    normalized_image = torch.from_numpy(normalized_image)\n",
    "    normalized_image.unsqueeze_(0)\n",
    "    normalized_tensor = Variable(normalized_image, requires_grad=True).cuda()\n",
    "    return normalized_tensor\n",
    "\n",
    "def show_cam_on_image(input_image, mask, filename=\"cam.png\"):\n",
    "    \"\"\"\n",
    "    Converts the mask to a heatmap and overlays it with the input image.\n",
    "    :param input_image: input image\n",
    "    :param mask: gradcam mask to be used as heatmap\n",
    "    :param filename: output path to write the image overlayed with the mask\n",
    "    :return:\n",
    "    \"\"\"\n",
    "    heatmap = cv2.applyColorMap(np.uint8(255 * mask), cv2.COLORMAP_JET)\n",
    "    heatmap = np.float32(heatmap) / 255\n",
    "    cam = heatmap + np.float32(input_image)\n",
    "    cam = cam / np.max(cam)\n",
    "    cv2.imwrite(filename, np.uint8(255 * cam))\n",
    "\n",
    "\n",
    "class GradCamAttack:\n",
    "    \"\"\"\n",
    "    This class is responsible for creating a targeted adversarial patch such that the top predicted category is the\n",
    "    target category and the Grad-CAM for the target category is hidden in the patch location.\n",
    "    \"\"\"\n",
    "    def __init__(self, model, target_layer_names):\n",
    "        self.model = model\n",
    "        self.model.eval()\n",
    "        self.model = model.cuda()\n",
    "        self.criterion = torch.nn.CrossEntropyLoss().cuda()\n",
    "        self.extractor = ModelOutputs(self.model, target_layer_names)\n",
    "        self.relu = torch.nn.ReLU()\n",
    "\n",
    "    def __call__(self, image_tensor, index, target_class_index, lr=.005, eps=0.007, lambda_val=0.05, attack_iters=750):\n",
    "        print('\\n\\nOur adversarial patch attack:\\n\\n')\n",
    "        print('Before attack, Predicted class:{}\\tTarget class:{}\\n\\n'.format(index, target_class_index))\n",
    "\n",
    "        # Clone the original image for computing the adversarial image with the patch\n",
    "        adv_image_tensor = image_tensor.clone()\n",
    "\n",
    "        # Initialize the perturbation tensor\n",
    "        dl_dx_cumulative = torch.zeros_like(image_tensor)\n",
    "\n",
    "        # Specify the top-left co-ordinates and the size for the patch and create the corresponding mask\n",
    "        # The mask will have ones at the patch location pixels and zeros at all other pixels\n",
    "        start_pos = (0, 0)\n",
    "        #patch_size = 64\n",
    "        patch_size = PATCH_SIZE\n",
    "        mask = torch.zeros_like(image_tensor).cuda()\n",
    "        mask.data[0, :, start_pos[1]:start_pos[1] + patch_size, start_pos[0]:start_pos[0] + patch_size] = 1.0\n",
    "\n",
    "        # Means and std_devs used for pre-processing\n",
    "#         means = np.array([0.485, 0.456, 0.406])\n",
    "#         stds = np.array([0.229, 0.224, 0.225])\n",
    "        \n",
    "        # Compute the per channel clamp_min and clamp_max respectively\n",
    "        channel_clamp_min = (0 - MEANS) / STDS\n",
    "        channel_clamp_max = (1 - MEANS) / STDS\n",
    "\n",
    "        loss_zero_counter = 0\n",
    "        for i in range(attack_iters):\n",
    "            adv_features, adv_output = self.extractor(adv_image_tensor)\n",
    "            pred_index = np.argmax(adv_output.cpu().data.numpy())\n",
    "\n",
    "            # Create a one-hot tensor for the target category\n",
    "            one_hot = np.zeros((1, adv_output.size()[-1]), dtype=np.float32)\n",
    "            one_hot[0][target_class_index] = 1\n",
    "            one_hot = Variable(torch.from_numpy(one_hot), requires_grad=True)\n",
    "            one_hot_tensor = torch.sum(one_hot.cuda() * adv_output)\n",
    "\n",
    "            # Clear the gradients before loss computation\n",
    "            self.model.features.zero_grad()\n",
    "            self.model.classifier.zero_grad()\n",
    "\n",
    "            # Compute the gradients of the loss with respect to the feature layer for the adversarial image\n",
    "            dy_dz, = torch.autograd.grad(one_hot_tensor, adv_features[0],\n",
    "                                         grad_outputs=torch.ones(one_hot_tensor.size()).cuda(),\n",
    "                                         retain_graph=True, create_graph=True)\n",
    "            dy_dz_sum = dy_dz.sum(dim=2).sum(dim=2)\n",
    "\n",
    "            # Compute gradient weighted class activations for the perturbed image\n",
    "            grad_weighted_feats = dy_dz_sum.unsqueeze(-1).unsqueeze(-1) * adv_features[0]\n",
    "            gcam = grad_weighted_feats.sum(dim=1).squeeze(0)\n",
    "            gcam = self.relu(gcam)\n",
    "\n",
    "            # Normalize the gradcam tensor\n",
    "            gcam = gcam / (gcam.sum() + 1e-10)\n",
    "            \n",
    "            print('gcam shape = ', gcam.shape)\n",
    "\n",
    "            # Compute the loss for the patch location pixels in the gradcam tensor.\n",
    "            # For a 224x224 image, the adversarial patch size is 64x64.\n",
    "            # Since the gradcam tensor is 14x14 for VGG19 BN network, the corresponding gradcam patch size is 4x4\n",
    "            \n",
    "            gcam_loss = torch.sum(gcam[0:4, 0:4]).abs().cuda()\n",
    "            gcam_loss = gcam_loss / 16.0\n",
    "\n",
    "            # Add the cross entropy loss if target category is not the top predicted category\n",
    "            if np.argmax(adv_output.cpu().data.numpy()) == target_class_index:\n",
    "                xe_loss = 0.0\n",
    "            else:\n",
    "                xe_loss = self.criterion(adv_output, torch.tensor([target_class_index], dtype=torch.long).cuda())\n",
    "\n",
    "            # We minimize both the gradcam loss and cross entropy loss\n",
    "            total_loss = gcam_loss + (lambda_val * xe_loss)\n",
    "\n",
    "            # Stop the attack once the loss is zero for 5 consecutive iterations\n",
    "            if total_loss == 0.0:\n",
    "                if loss_zero_counter > 5:\n",
    "                    break\n",
    "                else:\n",
    "                    loss_zero_counter += 1\n",
    "            else:\n",
    "                loss_zero_counter = 0\n",
    "\n",
    "            # Compute the gradient of the total loss with respect to the perturbed image\n",
    "            dl_dx, = torch.autograd.grad(total_loss, adv_image_tensor)\n",
    "\n",
    "            # Perform gradient ascent using the sign of dl_dx to compute the cumulative perturbation\n",
    "            dl_dx_cumulative = dl_dx_cumulative - lr * torch.sign(dl_dx)\n",
    "            adv_image_tensor = (1 - mask) * image_tensor.clone() + mask * dl_dx_cumulative\n",
    "\n",
    "            # Clamp the adversarial image using per channel min and max respectively\n",
    "            for c in range(NUM_CHANNELS):\n",
    "                adv_image_tensor[:, c, :, :] = adv_image_tensor[:, c, :, :].clamp(channel_clamp_min[c],\n",
    "                                                                                  channel_clamp_max[c])\n",
    "\n",
    "            if i % 10 == 0:\n",
    "                print('Iteration:{}\\tGradCAM Loss:{:.3f}\\tCE Loss:{:.3f}\\ttotal_pert.mean:{:.3f}\\tOrig index:{}'\n",
    "                      '\\tTarget index:{}\\tPred index:{}'.format(i, gcam_loss, xe_loss, dl_dx_cumulative.abs().mean(),\n",
    "                                                                index, target_class_index, pred_index))\n",
    "\n",
    "        # Store the resulting adversarial image tensor\n",
    "        res_adv_tensor = image_tensor.clone()\n",
    "        res_adv_tensor.data = adv_image_tensor.data\n",
    "\n",
    "        # Get the top predicted category of the resulting adversarial image tensor\n",
    "        _, adv_output = self.extractor(res_adv_tensor)\n",
    "\n",
    "        print('\\n\\nAfter attack, Original class: {}\\tPredicted class: {}\\tTarget class: {}'.\n",
    "              format(index, adv_output[0].argmax(), target_class_index))\n",
    "\n",
    "        # Denormalize the adversarial image\n",
    "        adv_img = res_adv_tensor.data[0].cpu().numpy()\n",
    "        adv_img = np.transpose(adv_img, (1, 2, 0))\n",
    "        for i in range(NUM_CHANNELS):\n",
    "            adv_img[:, :, i] = (adv_img[:, :, i] * STDS[i]) + MEANS[i]\n",
    "\n",
    "        return adv_img, res_adv_tensor\n",
    "\n",
    "\n",
    "class GradCamRegPatchAttack:\n",
    "    \"\"\"\n",
    "    This class is responsible for creating a regular adversarial patch for a targeted attack.\n",
    "    \"\"\"\n",
    "    def __init__(self, model, target_layer_names):\n",
    "        self.model = model\n",
    "        self.model.eval()\n",
    "        self.model = model.cuda()\n",
    "        self.criterion = torch.nn.CrossEntropyLoss().cuda()\n",
    "        self.extractor = ModelOutputs(self.model, target_layer_names)\n",
    "\n",
    "    def __call__(self, image_tensor, index, target_class_index, lr=.005, eps=0.007, lambda_val=0.05, attack_iters=750):\n",
    "        print('\\n\\nRegular adversarial patch attack:\\n\\n')\n",
    "        print('Before attack, Predicted class:{}\\tTarget class:{}\\n'.format(index, target_class_index))\n",
    "\n",
    "        # Clone the original image for computing the perturbed adversarial image\n",
    "        adv_image_tensor = image_tensor.clone() + torch.randn(image_tensor.size()).cuda() / 100\n",
    "\n",
    "        # Initialize the perturbation tensor\n",
    "        dl_dx_cumulative = torch.zeros_like(image_tensor)\n",
    "\n",
    "        # Means and std_devs used for pre-processing\n",
    "#         means = np.array([0.485, 0.456, 0.406])\n",
    "#         stds = np.array([0.229, 0.224, 0.225])\n",
    "        \n",
    "        # Compute the per channel clamp_min and clamp_max respectively\n",
    "        channel_clamp_min = (0 - MEANS) / STDS\n",
    "        channel_clamp_max = (1 - MEANS) / STDS\n",
    "\n",
    "        # Specify the top-left co-ordinates and the size for the patch and create the corresponding mask\n",
    "        # The mask will have ones at the patch location pixels and zeros at all other pixels\n",
    "        start_pos = (0, 0)\n",
    "        patch_size = PATCH_SIZE\n",
    "        mask = torch.zeros_like(image_tensor).cuda()\n",
    "        mask.data[0, :, start_pos[1]:start_pos[1] + patch_size, start_pos[0]:start_pos[0] + patch_size] = 1.0\n",
    "\n",
    "        loss_zero_counter = 0\n",
    "        target_flip_counter = 0\n",
    "        for i in range(attack_iters):\n",
    "            _, adv_output = self.extractor(adv_image_tensor)\n",
    "            pred_index = np.argmax(adv_output.cpu().data.numpy())\n",
    "\n",
    "            self.model.features.zero_grad()\n",
    "            self.model.classifier.zero_grad()\n",
    "\n",
    "            # Stop the attack once the target category is reached for 5 consecutive attack iterations\n",
    "            if i > 250 and pred_index == target_class_index:\n",
    "                if target_flip_counter > 5:\n",
    "                    break\n",
    "                else:\n",
    "                    target_flip_counter += 1\n",
    "            else:\n",
    "                target_flip_counter = 0\n",
    "\n",
    "            xe_loss = self.criterion(adv_output, torch.tensor([target_class_index], dtype=torch.long).cuda())\n",
    "\n",
    "            # Stop the attack once the loss is zero for 5 consecutive attack iterations\n",
    "            if xe_loss == 0.0:\n",
    "                if loss_zero_counter > 5:\n",
    "                    break\n",
    "                else:\n",
    "                    loss_zero_counter += 1\n",
    "            else:\n",
    "                loss_zero_counter = 0\n",
    "\n",
    "            # Compute the gradient of the total loss with respect to the perturbed image\n",
    "            dl_dx, = torch.autograd.grad(xe_loss, adv_image_tensor)\n",
    "\n",
    "            # Perform gradient ascent using the sign of dl_dx to compute the cumulative perturbation\n",
    "            dl_dx_cumulative = dl_dx_cumulative - lr * torch.sign(dl_dx)\n",
    "            adv_image_tensor = image_tensor.clone() * (1 - mask) + dl_dx_cumulative * mask\n",
    "\n",
    "            # Clamp the adversarial image using per channel min and max respectively\n",
    "            for c in range(NUM_CHANNELS):\n",
    "                adv_image_tensor[:, c, :, :] = adv_image_tensor[:, c, :, :].clamp(channel_clamp_min[c],\n",
    "                                                                                  channel_clamp_max[c])\n",
    "\n",
    "            if i % 10 == 0:\n",
    "                print('Iteration:{}\\tCE Loss:{:.3f}\\ttotal_pert.mean:{:.3f}\\tOrig index:{}\\tTarget index:{}'\n",
    "                      '\\tPred index:{}'.format(i, xe_loss, dl_dx_cumulative.abs().mean(),\n",
    "                                               index, target_class_index, pred_index))\n",
    "\n",
    "        # Store the resulting adversarial image tensor\n",
    "        res_adv_tensor = image_tensor.clone()\n",
    "        res_adv_tensor.data = adv_image_tensor.data\n",
    "\n",
    "        # Get the top predicted category of the resulting adversarial image tensor\n",
    "        _, adv_output = self.extractor(res_adv_tensor)\n",
    "\n",
    "        print('\\n\\nAfter attack, Original class: {}\\tPredicted class: {}\\tTarget class: {}'.\n",
    "              format(index, adv_output[0].argmax(), target_class_index))\n",
    "\n",
    "        # Denormalize the adversarial image\n",
    "        adv_img = res_adv_tensor.data[0].cpu().numpy()\n",
    "        adv_img = np.transpose(adv_img, (1, 2, 0))\n",
    "        for i in range(NUM_CHANNELS):\n",
    "            adv_img[:, :, i] = (adv_img[:, :, i] * STDS[i]) + MEANS[i]\n",
    "\n",
    "        return adv_img, res_adv_tensor\n",
    "\n",
    "\n",
    "class GradCam:\n",
    "    \"\"\"\n",
    "    This class computes the Grad-CAM mask for the specified index.\n",
    "    \"\"\"\n",
    "    def __init__(self, model, target_layer_names):\n",
    "        self.model = model\n",
    "        self.model.eval()\n",
    "        self.model = model.cuda()\n",
    "        self.extractor = ModelOutputs(self.model, target_layer_names)\n",
    "\n",
    "    def __call__(self, image_tensor, index=None):\n",
    "        features, output = self.extractor(image_tensor)\n",
    "\n",
    "        if index is None:\n",
    "            index = np.argmax(output.cpu().data.numpy())\n",
    "\n",
    "        # Compute the one-hot tensor corresponding to the index\n",
    "        one_hot = np.zeros((1, output.size()[-1]), dtype=np.float32)\n",
    "        one_hot[0][index] = 1\n",
    "        one_hot = Variable(torch.from_numpy(one_hot), requires_grad=True)\n",
    "        one_hot = torch.sum(one_hot.cuda() * output)\n",
    "\n",
    "        self.model.features.zero_grad()\n",
    "        self.model.classifier.zero_grad()\n",
    "        one_hot.backward(retain_graph=True)\n",
    "\n",
    "        # Get the gradients and features to compute Grad-CAM\n",
    "        grads_val = self.extractor.get_gradients()[-1].cpu().data.numpy()\n",
    "        target = features[-1]\n",
    "        target = target.cpu().data.numpy()[0, :]\n",
    "\n",
    "        weights = np.mean(grads_val, axis=(2, 3))[0, :]\n",
    "        cam = np.zeros(target.shape[1:], dtype=np.float32)\n",
    "\n",
    "        for i, w in enumerate(weights):\n",
    "            cam += w * target[i, :, :]\n",
    "\n",
    "        cam = np.maximum(cam, 0)\n",
    "        cam = cv2.resize(cam, (IMG_W, IMG_W))\n",
    "        cam = cam - np.min(cam)\n",
    "        cam = cam / np.max(cam)\n",
    "        return cam\n",
    "\n",
    "class GuidedBackpropReLU(Function):\n",
    "\n",
    "    def forward(self, input_tensor):\n",
    "        positive_mask = (input_tensor > 0).type_as(input_tensor)\n",
    "        output = torch.addcmul(torch.zeros(input_tensor.size()).type_as(input_tensor), input_tensor, positive_mask)\n",
    "        self.save_for_backward(input_tensor, output)\n",
    "        return output\n",
    "\n",
    "    def backward(self, grad_output):\n",
    "        input_tensor, output = self.saved_tensors\n",
    "        grad_input = None\n",
    "\n",
    "        positive_mask_1 = (input_tensor > 0).type_as(grad_output)\n",
    "        positive_mask_2 = (grad_output > 0).type_as(grad_output)\n",
    "        grad_input = torch.addcmul(torch.zeros(input_tensor.size()).\n",
    "                                   type_as(input_tensor), torch.addcmul(torch.zeros(input_tensor.size()).\n",
    "                                        type_as(input_tensor), grad_output, positive_mask_1), positive_mask_2)\n",
    "\n",
    "        return grad_input\n",
    "\n",
    "class GuidedBackpropReLUModel:\n",
    "    def __init__(self, model, use_cuda):\n",
    "        self.model = model\n",
    "        self.model.eval()\n",
    "        self.cuda = use_cuda\n",
    "        if self.cuda:\n",
    "            self.model = model.cuda()\n",
    "\n",
    "        # replace ReLU with GuidedBackpropReLU\n",
    "        for idx, module in self.model.features._modules.items():\n",
    "            if module.__class__.__name__ == 'ReLU':\n",
    "                self.model.features._modules[idx] = GuidedBackpropReLU()\n",
    "\n",
    "    def forward(self, input_tensor):\n",
    "        return self.model(input_tensor)\n",
    "\n",
    "    def __call__(self, input_tensor, index = None):\n",
    "        if self.cuda:\n",
    "            output = self.forward(input_tensor.cuda())\n",
    "        else:\n",
    "            output = self.forward(input_tensor)\n",
    "\n",
    "        if index == None:\n",
    "            index = np.argmax(output.cpu().data.numpy())\n",
    "\n",
    "        one_hot = np.zeros((1, output.size()[-1]), dtype = np.float32)\n",
    "        one_hot[0][index] = 1\n",
    "        one_hot = Variable(torch.from_numpy(one_hot), requires_grad = True)\n",
    "        if self.cuda:\n",
    "            one_hot = torch.sum(one_hot.cuda() * output)\n",
    "        else:\n",
    "            one_hot = torch.sum(one_hot * output)\n",
    "\n",
    "        # self.model.features.zero_grad()\n",
    "        # self.model.classifier.zero_grad()\n",
    "        \n",
    "        #one_hot.backward(retain_variables=True)\n",
    "        one_hot.backward(retain_graph=True)\n",
    "\n",
    "        output = input_tensor.grad.cpu().data.numpy()\n",
    "        output = output[0,:,:,:]\n",
    "\n",
    "        return output\n",
    "    \n",
    "class GuidedGradCam:\n",
    "    \"\"\"\n",
    "    This class computes the Guided Grad-CAM mask for the specified index.\n",
    "    \"\"\"\n",
    "    def __init__(self, model, target_layer_names):\n",
    "        self.model = model\n",
    "        self.model.eval()\n",
    "        self.model = model.cuda()\n",
    "        self.extractor = ModelOutputs(self.model, target_layer_names)\n",
    "\n",
    "    def __call__(self, image_tensor, index=None):\n",
    "        features, output = self.extractor(image_tensor)\n",
    "\n",
    "        if index is None:\n",
    "            index = np.argmax(output.cpu().data.numpy())\n",
    "\n",
    "        # Means and std_devs used for pre-processing\n",
    "#         means = np.array([0.485, 0.456, 0.406])\n",
    "#         stds = np.array([0.229, 0.224, 0.225])\n",
    "        \n",
    "        # Compute the one-hot tensor corresponding to the index\n",
    "        one_hot = np.zeros((1, output.size()[-1]), dtype=np.float32)\n",
    "        one_hot[0][index] = 1\n",
    "        one_hot = Variable(torch.from_numpy(one_hot), requires_grad=True)\n",
    "        one_hot = torch.sum(one_hot.cuda() * output)\n",
    "\n",
    "        self.model.features.zero_grad()\n",
    "        self.model.classifier.zero_grad()\n",
    "        one_hot.backward(retain_graph=True)\n",
    "\n",
    "        # Get the gradients and features to compute Grad-CAM\n",
    "        grads_val = self.extractor.get_gradients()[-1].cpu().data.numpy()\n",
    "        target = features[-1]\n",
    "        target = target.cpu().data.numpy()[0, :]\n",
    "\n",
    "        weights = np.mean(grads_val, axis=(2, 3))[0, :]\n",
    "        cam = np.zeros(target.shape[1:], dtype=np.float32)\n",
    "\n",
    "        for i, w in enumerate(weights):\n",
    "            cam += w * target[i, :, :]\n",
    "\n",
    "        cam = np.maximum(cam, 0)\n",
    "        cam = cv2.resize(cam, (IMG_W, IMG_H))\n",
    "        cam = cam - np.min(cam)\n",
    "        cam = cam / np.max(cam)\n",
    "        \n",
    "        # Gradcam ends here. Below additional code is added to produce guided grad-cam\n",
    "        img = image_tensor.data[0].cpu().numpy()\n",
    "        img = np.transpose(img, (1, 2, 0))\n",
    "#         for i in range(3):\n",
    "#             img[:, :, i] = (img[:, :, i] * stds[i]) + means[i]\n",
    "        cam_heatmap = cv2.applyColorMap(np.uint8(255*cam), cv2.COLORMAP_JET)\n",
    "        cam_heatmap = cv2.cvtColor(cam_heatmap, cv2.COLOR_BGR2RGB)\n",
    "        cam = np.float32(cam.reshape((28, 28, 1))) * np.float32(img)\n",
    "        cam = 255 * cam / np.max(cam)\n",
    "        cam = np.uint8(cam)\n",
    "        \n",
    "        gb_viz -= np.min(gb_viz)\n",
    "        gb_viz /= gb_viz.max()\n",
    "        img_int = (gb_viz * 255.).astype(int).reshape(img.shape[:2])\n",
    "\n",
    "        gd_gb = gb_viz * cam\n",
    "        img_int = (gd_gb * 255.).astype(int).reshape(img.shape[:2])\n",
    "\n",
    "        img_int = img_int/float(np.amax(img_int))\n",
    "\n",
    "        return cam\n",
    "\n",
    "\n",
    "def forward_inference(model, input_tensor):\n",
    "    \"\"\"\n",
    "    Computes forward inference on the input image tensor and\n",
    "    returns the top prediction index and probability\n",
    "    :param model:\n",
    "    :param input_tensor:\n",
    "    :return:\n",
    "    \"\"\"\n",
    "    output = model(input_tensor)\n",
    "    index = np.argmax(output.cpu().data.numpy())\n",
    "    index_prob = torch.nn.functional.softmax(output)[0][index]\n",
    "    return index, index_prob\n",
    "\n",
    "\n",
    "def get_args():\n",
    "\n",
    "    if not torch.cuda.is_available():\n",
    "        print(\"CUDA not available. Exiting.\")\n",
    "        exit()\n",
    "    print(\"Using GPU for acceleration\")\n",
    "\n",
    "    parser = argparse.ArgumentParser()\n",
    "    parser.add_argument('--image-path', type=str, default='./examples/ILSVRC2012_val_00008855.JPEG',\n",
    "                        help='Input image path')\n",
    "    parser.add_argument('--result-dir', type=str, default='./results', help='Path to store the results')\n",
    "    return parser.parse_args()"
   ]
  },
  {
   "cell_type": "code",
   "execution_count": 8,
   "metadata": {
    "collapsed": true
   },
   "outputs": [],
   "source": [
    "# taken from http://localhost:8890/notebooks/pytorch-cw2/torch_fmnist_train_v2.ipynb\n",
    "\"\"\"\n",
    "torch.nn.Conv2d(in_channels, out_channels, kernel_size, \n",
    "stride=1, padding=0, dilation=1, groups=1, bias=True, padding_mode='zeros')\n",
    "\"\"\"\n",
    "\n",
    "def make_layers(cfg, in_channels, kernel_size, stride, padding, batch_norm=False):\n",
    "    layers = []\n",
    "    for v in cfg:\n",
    "        if v == 'M':\n",
    "            layers += [nn.MaxPool2d(kernel_size=2, stride=2)]\n",
    "        else:\n",
    "            conv2d = nn.Conv2d(in_channels, v, kernel_size=kernel_size, padding=padding)\n",
    "            if batch_norm:\n",
    "                layers += [conv2d, nn.BatchNorm2d(v), nn.ReLU(inplace=True)]\n",
    "            else:\n",
    "                layers += [conv2d, nn.ReLU(inplace=True)]\n",
    "            in_channels = v\n",
    "    return nn.Sequential(*layers)\n",
    "\n",
    "\n",
    "\"\"\"\n",
    "Refer VGG19_bn configurationh here: \n",
    "https://github.com/pytorch/vision/blob/76702a03d6cc2e4f431bfd1914d5e301c07bd489/torchvision/models/vgg.py#L63\n",
    "\"\"\"\n",
    "cfgs = {\n",
    "    #'E': [64, 64, 'M',128, 128, 'M',256, 256, 256, 256, 'M', 512, 512, 512, 512, 'M',512, 512, 512, 512, 'M'],\n",
    "    'E': [20, 'M', 50, 'M']\n",
    "}\n",
    "\n",
    "model_layers = make_layers(cfgs['E'],in_channels=1, kernel_size=5, stride=1, padding=0, batch_norm=False)"
   ]
  },
  {
   "cell_type": "markdown",
   "metadata": {},
   "source": [
    "# Main method"
   ]
  },
  {
   "cell_type": "code",
   "execution_count": 9,
   "metadata": {},
   "outputs": [
    {
     "data": {
      "text/plain": [
       "' python gradcam_targeted_patch_attack.py --image-path <path_to_image> --result-dir <path_to_result_dir>\\n1. Loads an image with opencv.\\n2. Preprocesses it for VGG19 and converts to a pytorch variable.\\n3. Makes a forward pass to find the category index with the highest score,\\nand computes intermediate activations.\\nMakes the visualization. '"
      ]
     },
     "execution_count": 9,
     "metadata": {},
     "output_type": "execute_result"
    }
   ],
   "source": [
    "\"\"\" python gradcam_targeted_patch_attack.py --image-path <path_to_image> --result-dir <path_to_result_dir>\n",
    "1. Loads an image with opencv.\n",
    "2. Preprocesses it for VGG19 and converts to a pytorch variable.\n",
    "3. Makes a forward pass to find the category index with the highest score,\n",
    "and computes intermediate activations.\n",
    "Makes the visualization. \"\"\""
   ]
  },
  {
   "cell_type": "code",
   "execution_count": 10,
   "metadata": {
    "collapsed": true
   },
   "outputs": [],
   "source": [
    "# args = get_args()\n",
    "image_path = './examples/ILSVRC2012_val_00008855.JPEG' #Input image path\n",
    "result_dir = './results' #Path to store the results\n",
    "\n",
    "use_cuda = True\n",
    "\n",
    "# Setting the seed for reproducibility for demo\n",
    "# Comment the below 4 lines for the target category to be random across runs\n",
    "np.random.seed(1)\n",
    "torch.manual_seed(1)\n",
    "torch.backends.cudnn.deterministic = True\n",
    "torch.backends.cudnn.benchmark = False\n",
    "\n",
    "\n"
   ]
  },
  {
   "cell_type": "code",
   "execution_count": 11,
   "metadata": {},
   "outputs": [
    {
     "data": {
      "text/plain": [
       "Net(\n",
       "  (features): Sequential(\n",
       "    (0): Conv2d(1, 20, kernel_size=(5, 5), stride=(1, 1))\n",
       "    (1): ReLU(inplace=True)\n",
       "    (2): MaxPool2d(kernel_size=2, stride=2, padding=0, dilation=1, ceil_mode=False)\n",
       "    (3): Conv2d(20, 50, kernel_size=(5, 5), stride=(1, 1))\n",
       "    (4): ReLU(inplace=True)\n",
       "    (5): MaxPool2d(kernel_size=2, stride=2, padding=0, dilation=1, ceil_mode=False)\n",
       "  )\n",
       "  (classifier): Sequential(\n",
       "    (0): Linear(in_features=800, out_features=500, bias=True)\n",
       "    (1): ReLU(inplace=True)\n",
       "    (2): Linear(in_features=500, out_features=10, bias=True)\n",
       "  )\n",
       ")"
      ]
     },
     "execution_count": 11,
     "metadata": {},
     "output_type": "execute_result"
    }
   ],
   "source": [
    "NUM_CLASSES = 10\n",
    "\n",
    "pretrained_model = \"model/fmnist/v2/fmnist_cnn.pt\"\n",
    "# Initialize the network\n",
    "model = Net(model_layers, num_classes=NUM_CLASSES).cuda()\n",
    "\n",
    "# Load the pretrained model\n",
    "model.load_state_dict(torch.load(pretrained_model))\n",
    "\n",
    "# Set the model in evaluation mode. In this case this is for the Dropout layers\n",
    "model.eval()"
   ]
  },
  {
   "cell_type": "code",
   "execution_count": 12,
   "metadata": {
    "collapsed": true
   },
   "outputs": [],
   "source": [
    "# Can work with any model, but it assumes that the model has a feature method,\n",
    "# and a classifier method, as in the VGG models in torchvision.\n",
    "gradcam_attack = GradCamAttack(model, target_layer_names=[\"4\"])\n"
   ]
  },
  {
   "cell_type": "code",
   "execution_count": 13,
   "metadata": {
    "collapsed": true
   },
   "outputs": [],
   "source": [
    "#gradcam_reg_patch_attack = GradCamRegPatchAttack(model=models.vgg19_bn(pretrained=True), target_layer_names=[\"51\"])\n",
    "gradcam_reg_patch_attack = GradCamRegPatchAttack(model, target_layer_names=[\"4\"])\n",
    "#gradcam = GradCam(model=models.vgg19_bn(pretrained=True), target_layer_names=[\"51\"])\n",
    "gradcam = GradCam(model, target_layer_names=[\"4\"])\n",
    "\n",
    "#pretrained_vgg_net = models.vgg19_bn(pretrained=True).cuda()\n",
    "\n",
    "\n",
    "#pretrained_vgg_net = pretrained_vgg_net.eval()\n",
    "\n",
    "#image_name = image_path.split('/')[-1].split('.')[0]\n",
    "#print('image_name ',image_name)"
   ]
  },
  {
   "cell_type": "code",
   "execution_count": 14,
   "metadata": {
    "collapsed": true
   },
   "outputs": [],
   "source": [
    "# Create result directory if it doesn't exist\n",
    "if not os.path.exists(result_dir):\n",
    "    os.makedirs(result_dir)\n",
    "\n",
    "# Read the input image and preprocess to a tensor\n",
    "# img = cv2.imread(image_path, 1)\n",
    "# img = np.float32(cv2.resize(img, (224, 224))) / 255\n",
    "(x_train, y_train) ,(x_test, y_test) = keras_datasets.fashion_mnist.load_data()\n",
    "\n",
    "# directory = './data/fmnist'\n",
    "\n",
    "# IS_DATA_READY = True\n",
    "# assert(IS_DATA_READY == True)\n",
    "\n",
    "# x_train = np.load(directory + '/x_train.npy')\n",
    "# y_train = np.load(directory + '/y_train.npy')\n",
    "# x_test = np.load(directory + '/x_test.npy')\n",
    "# y_test = np.load(directory + '/y_test.npy')"
   ]
  },
  {
   "cell_type": "code",
   "execution_count": 15,
   "metadata": {},
   "outputs": [
    {
     "data": {
      "text/plain": [
       "array([  8,   9,  12,  13,  30,  36,  43,  60,  62,  63,  82, 116, 120,\n",
       "       121, 133, 155, 172, 173, 177, 192])"
      ]
     },
     "execution_count": 15,
     "metadata": {},
     "output_type": "execute_result"
    }
   ],
   "source": [
    "np.where(y_train==5)[0][0:20]"
   ]
  },
  {
   "cell_type": "code",
   "execution_count": 16,
   "metadata": {},
   "outputs": [
    {
     "data": {
      "text/plain": [
       "5"
      ]
     },
     "execution_count": 16,
     "metadata": {},
     "output_type": "execute_result"
    }
   ],
   "source": [
    "chosen_index = 8\n",
    "img_sample = x_train[chosen_index]/255\n",
    "y_train[chosen_index]"
   ]
  },
  {
   "cell_type": "code",
   "execution_count": 17,
   "metadata": {},
   "outputs": [
    {
     "data": {
      "text/plain": [
       "<matplotlib.image.AxesImage at 0x7f4ca43fc860>"
      ]
     },
     "execution_count": 17,
     "metadata": {},
     "output_type": "execute_result"
    },
    {
     "data": {
      "image/png": "[encoded data removed]",
      "text/plain": [
       "<Figure size 432x288 with 1 Axes>"
      ]
     },
     "metadata": {
      "needs_background": "light"
     },
     "output_type": "display_data"
    }
   ],
   "source": [
    "plt.imshow(img_sample)"
   ]
  },
  {
   "cell_type": "code",
   "execution_count": null,
   "metadata": {
    "collapsed": true
   },
   "outputs": [],
   "source": []
  },
  {
   "cell_type": "code",
   "execution_count": 18,
   "metadata": {},
   "outputs": [],
   "source": [
    "#preprocessed_img = preprocess_image(img)\n",
    "preprocessed_img = preprocess_image_one_ch(img_sample).float()\n",
    "\n",
    "# img_sample = img_sample.reshape(1,28,28,1)\n",
    "# img_sample = np.transpose(img_sample, (0,3,1,2))\n",
    "# preprocessed_img = torch.from_numpy(img_sample).float().cuda()\n",
    "# preprocessed_img = Variable(preprocessed_img, requires_grad=True).cuda()"
   ]
  },
  {
   "cell_type": "code",
   "execution_count": 19,
   "metadata": {},
   "outputs": [
    {
     "name": "stdout",
     "output_type": "stream",
     "text": [
      "torch.Size([1, 1, 28, 28])\n"
     ]
    }
   ],
   "source": [
    "print(preprocessed_img.shape)"
   ]
  },
  {
   "cell_type": "code",
   "execution_count": 20,
   "metadata": {},
   "outputs": [
    {
     "name": "stdout",
     "output_type": "stream",
     "text": [
      "0.0\n",
      "1.0\n"
     ]
    }
   ],
   "source": [
    "print(np.min(img_sample))\n",
    "print(np.max(img_sample))"
   ]
  },
  {
   "cell_type": "code",
   "execution_count": 21,
   "metadata": {},
   "outputs": [
    {
     "name": "stdout",
     "output_type": "stream",
     "text": [
      "Original index: 5 and original probability: 0.9999725818634033\n"
     ]
    },
    {
     "name": "stderr",
     "output_type": "stream",
     "text": [
      "/scratch/user/raj_vardhan/.conda/envs/tf-gpu-env/lib/python3.6/site-packages/ipykernel_launcher.py:515: UserWarning: Implicit dimension choice for softmax has been deprecated. Change the call to include dim=X as an argument.\n"
     ]
    }
   ],
   "source": [
    "# Get the original prediction index and the corresponding probability\n",
    "orig_index, orig_prob = forward_inference(model, preprocessed_img)\n",
    "print('Original index: {} and original probability: {}'.format(orig_index, orig_prob))\n"
   ]
  },
  {
   "cell_type": "code",
   "execution_count": 22,
   "metadata": {},
   "outputs": [
    {
     "name": "stdout",
     "output_type": "stream",
     "text": [
      "target index is  6\n"
     ]
    }
   ],
   "source": [
    "\n",
    "# Pick a random target from the remaining NUM_CLASSES-1 categories excluding the original prediction\n",
    "list_of_idx = np.delete(np.arange(NUM_CLASSES), orig_index)\n",
    "rand_idx = np.random.randint(NUM_CLASSES-1)\n",
    "target_index = list_of_idx[rand_idx]\n",
    "print('target index is ', target_index)"
   ]
  },
  {
   "cell_type": "code",
   "execution_count": null,
   "metadata": {},
   "outputs": [],
   "source": [
    "# Compute the regular adv patch attack image and the corresponding GradCAM\n",
    "reg_patch_adv_img, reg_patch_adv_tensor = gradcam_reg_patch_attack(preprocessed_img, orig_index, target_index)\n",
    "reg_patch_pred_index, reg_patch_pred_prob = forward_inference(model,preprocess_image_one_ch(reg_patch_adv_img[:, :, ::-1]))\n",
    "\n",
    "image_name = \"my_img\"\n",
    "cv2.imwrite(os.path.join(result_dir, image_name + '_reg_adv_patch_image.png'),\n",
    "            np.uint8(255 * np.clip(reg_patch_adv_img[:, :, ::-1], 0, 1)))\n",
    "\n"
   ]
  },
  {
   "cell_type": "code",
   "execution_count": null,
   "metadata": {},
   "outputs": [],
   "source": [
    "plt.imshow(reg_patch_adv_img.reshape(28,28))"
   ]
  },
  {
   "cell_type": "code",
   "execution_count": null,
   "metadata": {
    "collapsed": true
   },
   "outputs": [],
   "source": [
    "# Generate the GradCAM heatmap for the target category using the regular patch adversarial image\n",
    "reg_patch_adv_mask = gradcam(reg_patch_adv_tensor, target_index)\n",
    "show_cam_on_image(np.clip(reg_patch_adv_img[:, :, ::-1], 0, 1), reg_patch_adv_mask,\n",
    "                  filename=os.path.join(result_dir, image_name + '_reg_adv_patch_gcam.JPEG'))\n"
   ]
  },
  {
   "cell_type": "code",
   "execution_count": null,
   "metadata": {
    "collapsed": true
   },
   "outputs": [],
   "source": [
    "plt.imshow(reg_patch_adv_mask)"
   ]
  },
  {
   "cell_type": "code",
   "execution_count": null,
   "metadata": {
    "collapsed": true
   },
   "outputs": [],
   "source": [
    "\n",
    "# Compute the adv patch attack using our method and the corresponding GradCAM\n",
    "# our_patch_adv_tensor has shape: torch.Size([1, 3, 224, 224])\n",
    "# our_patch_adv_img has shape: (224, 224, 3)\n",
    "our_patch_adv_img, our_patch_adv_tensor = gradcam_attack(preprocessed_img, orig_index, target_index)\n",
    "our_patch_pred_index, our_patch_pred_prob = forward_inference(model,\n",
    "                                                              preprocess_image_one_ch(our_patch_adv_img[:, :, ::-1]))\n",
    "cv2.imwrite(os.path.join(result_dir, image_name + '_our_adv_patch_image.png'),\n",
    "            np.uint8(255 * np.clip(our_patch_adv_img[:, :, ::-1], 0, 1)))\n",
    "\n",
    "# Generate the GradCAM heatmap for the target category using our patch adversarial image\n",
    "mask_adv_ = gradcam(our_patch_adv_tensor, target_index)\n",
    "show_cam_on_image(np.clip(our_patch_adv_img[:, :, ::-1], 0, 1), mask_adv_,\n",
    "                  filename=os.path.join(result_dir, image_name + '_our_adv_patch_gcam.JPEG'))\n"
   ]
  },
  {
   "cell_type": "code",
   "execution_count": null,
   "metadata": {
    "collapsed": true
   },
   "outputs": [],
   "source": [
    "# Generate the GradCAM heatmap for the target category using our patch adversarial image\n",
    "mask_adv_ = gradcam(our_patch_adv_tensor, target_index)"
   ]
  },
  {
   "cell_type": "code",
   "execution_count": null,
   "metadata": {
    "collapsed": true
   },
   "outputs": [],
   "source": [
    "cam = mask_adv_\n",
    "plt.imshow(cam)"
   ]
  },
  {
   "cell_type": "code",
   "execution_count": null,
   "metadata": {
    "collapsed": true
   },
   "outputs": [],
   "source": [
    "# Gradcam ends here. Below additional code is added to produce guided grad-cam\n",
    "\n",
    "image_tensor = our_patch_adv_tensor\n",
    "\n",
    "img = image_tensor.data[0].cpu().numpy()\n",
    "img = np.transpose(img, (1, 2, 0))\n",
    "#         for i in range(3):\n",
    "#             img[:, :, i] = (img[:, :, i] * stds[i]) + means[i]\n",
    "cam_heatmap = cv2.applyColorMap(np.uint8(255*cam), cv2.COLORMAP_JET)\n",
    "plt.imshow(cam_heatmap)"
   ]
  },
  {
   "cell_type": "code",
   "execution_count": null,
   "metadata": {
    "collapsed": true
   },
   "outputs": [],
   "source": [
    "cam_heatmap = cv2.cvtColor(cam_heatmap, cv2.COLOR_BGR2RGB)\n",
    "plt.imshow(cam_heatmap)"
   ]
  },
  {
   "cell_type": "code",
   "execution_count": null,
   "metadata": {
    "collapsed": true
   },
   "outputs": [],
   "source": [
    "print(cam.shape)\n",
    "print(img.shape)\n",
    "\n",
    "cam = np.float32(cam.reshape((28, 28, 1))) * np.float32(img)\n",
    "cam = 255 * cam / np.max(cam)\n",
    "cam = np.uint8(cam)\n",
    "\n",
    "# gb_viz -= np.min(gb_viz)\n",
    "# gb_viz /= gb_viz.max()\n",
    "# img_int = (gb_viz * 255.).astype(int).reshape(img.shape[:2])\n",
    "\n",
    "# gd_gb = gb_viz * cam\n",
    "# img_int = (gd_gb * 255.).astype(int).reshape(img.shape[:2])\n",
    "\n",
    "# img_int = img_int/float(np.amax(img_int))\n",
    "\n",
    "print(preprocessed_img.shape)\n",
    "print(our_patch_adv_img.shape)\n",
    "print(our_patch_adv_tensor.shape)"
   ]
  },
  {
   "cell_type": "markdown",
   "metadata": {},
   "source": [
    "# Generate grad cam of original clean sample for true class"
   ]
  },
  {
   "cell_type": "code",
   "execution_count": 23,
   "metadata": {
    "collapsed": true
   },
   "outputs": [],
   "source": [
    "# Generate the GradCAM heatmap for the original class\n",
    "mask_orig = gradcam(preprocessed_img, orig_index)"
   ]
  },
  {
   "cell_type": "code",
   "execution_count": 24,
   "metadata": {},
   "outputs": [
    {
     "data": {
      "text/plain": [
       "numpy.ndarray"
      ]
     },
     "execution_count": 24,
     "metadata": {},
     "output_type": "execute_result"
    }
   ],
   "source": [
    "type(mask_orig)"
   ]
  },
  {
   "cell_type": "code",
   "execution_count": null,
   "metadata": {},
   "outputs": [],
   "source": [
    "cam = mask_orig\n",
    "plt.imshow(cam)"
   ]
  },
  {
   "cell_type": "code",
   "execution_count": null,
   "metadata": {},
   "outputs": [],
   "source": [
    "cam.shape"
   ]
  },
  {
   "cell_type": "code",
   "execution_count": null,
   "metadata": {
    "collapsed": true
   },
   "outputs": [],
   "source": [
    "image_tensor = preprocessed_img\n",
    "\n",
    "img = image_tensor.data[0].cpu().numpy()\n",
    "img = np.transpose(img, (1, 2, 0))"
   ]
  },
  {
   "cell_type": "code",
   "execution_count": null,
   "metadata": {
    "collapsed": true
   },
   "outputs": [],
   "source": [
    "img -= np.min(img)\n",
    "img /= img.max()"
   ]
  },
  {
   "cell_type": "code",
   "execution_count": null,
   "metadata": {},
   "outputs": [],
   "source": [
    "print(img.shape)\n",
    "print(cam.shape)\n",
    "\n",
    "print(np.max(cam))\n",
    "print(np.min(cam))\n",
    "\n",
    "print(np.max(img))\n",
    "print(np.min(img))"
   ]
  },
  {
   "cell_type": "code",
   "execution_count": null,
   "metadata": {
    "collapsed": true
   },
   "outputs": [],
   "source": [
    "cam = np.float32(cam.reshape((28, 28, 1))) * np.float32(img)\n",
    "cam = 255 * cam / np.max(cam)\n"
   ]
  },
  {
   "cell_type": "code",
   "execution_count": null,
   "metadata": {},
   "outputs": [],
   "source": [
    "type(cam[0,0,0])"
   ]
  },
  {
   "cell_type": "code",
   "execution_count": null,
   "metadata": {
    "collapsed": true
   },
   "outputs": [],
   "source": [
    "cam = np.uint8(cam)"
   ]
  },
  {
   "cell_type": "code",
   "execution_count": null,
   "metadata": {},
   "outputs": [],
   "source": [
    "plt.imshow(cam.reshape(28,28))"
   ]
  },
  {
   "cell_type": "code",
   "execution_count": null,
   "metadata": {
    "collapsed": true
   },
   "outputs": [],
   "source": [
    "\n",
    "# input_gb = Variable(preprocessed_img, requires_grad = True)\n",
    "\n",
    "# gb_model = GuidedBackpropReLUModel(model, use_cuda=use_cuda)\n",
    "# gb = gb_model(input_gb, orig_index)\n",
    "\n",
    "# print(gb.shape)\n",
    "# gb_tr = np.transpose(gb, (1,2,0))\n",
    "# plt.imshow(gb_tr.reshape(28,28), cmap='gray')\n",
    "\n",
    "# mean = 0.1307\n",
    "# std = 0.3081\n",
    "# gb_scaled = (gb_tr + mean)* std\n",
    "\n",
    "# plt.imshow(gb_scaled.reshape(28,28))"
   ]
  },
  {
   "cell_type": "code",
   "execution_count": null,
   "metadata": {
    "collapsed": true
   },
   "outputs": [],
   "source": [
    "# input_gb = Variable(reg_patch_adv_tensor, requires_grad = True)\n",
    "\n",
    "# gb_model = GuidedBackpropReLUModel(model, use_cuda=use_cuda)\n",
    "# gb = gb_model(input_gb, orig_index)\n",
    "\n",
    "# print(gb.shape)\n",
    "# gb_tr = np.transpose(gb, (1,2,0))\n",
    "# plt.imshow(gb_tr.reshape(28,28), cmap='gray')"
   ]
  },
  {
   "cell_type": "code",
   "execution_count": null,
   "metadata": {
    "collapsed": true
   },
   "outputs": [],
   "source": [
    "# gb = gb_model(input_gb, orig_index)\n",
    "\n",
    "# print(gb.shape)\n",
    "# gb_tr = np.transpose(gb, (1,2,0))\n",
    "# plt.imshow(gb_tr.reshape(28,28), cmap='gray')"
   ]
  },
  {
   "cell_type": "code",
   "execution_count": null,
   "metadata": {
    "collapsed": true
   },
   "outputs": [],
   "source": [
    "# input_gb = Variable(reg_patch_adv_tensor, requires_grad = True)\n",
    "\n",
    "# gb_model = GuidedBackpropReLUModel(model, use_cuda=use_cuda)\n",
    "# gb = gb_model(input_gb, orig_index)\n",
    "\n",
    "# print(gb.shape)\n",
    "# gb_tr = np.transpose(gb, (1,2,0))\n",
    "# plt.imshow(gb_tr.reshape(28,28), cmap='gray')"
   ]
  },
  {
   "cell_type": "code",
   "execution_count": null,
   "metadata": {
    "collapsed": true
   },
   "outputs": [],
   "source": [
    "input_gb = Variable(preprocessed_img, requires_grad = True)\n",
    "output = model(input_gb)\n",
    "index = target_index\n",
    "one_hot = np.zeros((1, output.size()[-1]), dtype = np.float32)\n",
    "one_hot[0][index] = 1\n",
    "one_hot = Variable(torch.from_numpy(one_hot), requires_grad = True)\n",
    "one_hot = torch.sum(one_hot.cuda() * output)"
   ]
  },
  {
   "cell_type": "code",
   "execution_count": null,
   "metadata": {},
   "outputs": [],
   "source": [
    "one_hot"
   ]
  },
  {
   "cell_type": "code",
   "execution_count": null,
   "metadata": {
    "collapsed": true
   },
   "outputs": [],
   "source": [
    "one_hot.backward(retain_graph=True)\n",
    "output = input_gb.grad.cpu().data.numpy()"
   ]
  },
  {
   "cell_type": "code",
   "execution_count": null,
   "metadata": {},
   "outputs": [],
   "source": [
    "output.shape"
   ]
  },
  {
   "cell_type": "code",
   "execution_count": null,
   "metadata": {
    "collapsed": true
   },
   "outputs": [],
   "source": [
    "output = output[0,:,:,:]"
   ]
  },
  {
   "cell_type": "code",
   "execution_count": null,
   "metadata": {},
   "outputs": [],
   "source": [
    "plt.imshow(output[0],cmap='gray')"
   ]
  },
  {
   "cell_type": "code",
   "execution_count": null,
   "metadata": {},
   "outputs": [],
   "source": [
    "output.shape"
   ]
  },
  {
   "cell_type": "code",
   "execution_count": null,
   "metadata": {
    "collapsed": true
   },
   "outputs": [],
   "source": [
    "gb_viz = np.transpose(output, (1,2,0))"
   ]
  },
  {
   "cell_type": "code",
   "execution_count": null,
   "metadata": {},
   "outputs": [],
   "source": [
    "print(gb_viz.shape)\n",
    "print(cam.shape)\n",
    "print(np.min(gb_viz))\n",
    "print(np.max(gb_viz))\n",
    "\n",
    "print(np.min(cam))\n",
    "print(np.max(cam))"
   ]
  },
  {
   "cell_type": "code",
   "execution_count": null,
   "metadata": {
    "collapsed": true
   },
   "outputs": [],
   "source": [
    "gb_viz -= np.min(gb_viz)\n",
    "gb_viz /= np.max(gb_viz)\n",
    "gd_gb = gb_viz * cam"
   ]
  },
  {
   "cell_type": "code",
   "execution_count": null,
   "metadata": {},
   "outputs": [],
   "source": [
    "print(np.min(gd_gb))\n",
    "print(np.max(gd_gb)) # will be between 0 and 255"
   ]
  },
  {
   "cell_type": "code",
   "execution_count": null,
   "metadata": {},
   "outputs": [],
   "source": [
    "img_int = (gd_gb * 255.).astype(int).reshape(img.shape[:2])\n",
    "img_int = img_int/float(np.amax(img_int))\n",
    "print(img_int.shape)"
   ]
  },
  {
   "cell_type": "code",
   "execution_count": null,
   "metadata": {},
   "outputs": [],
   "source": [
    "plt.imshow(img_int)"
   ]
  },
  {
   "cell_type": "markdown",
   "metadata": {},
   "source": [
    "# Here, we will load the explanation based model we trained for the class index 6 and see if it is able to correctly predict interpretations generated here"
   ]
  },
  {
   "cell_type": "markdown",
   "metadata": {},
   "source": [
    "## interpretation generation code: http://localhost:8889/notebooks/pytorch-cw2/torch_fmnist_intr_train_v1.ipynb#"
   ]
  },
  {
   "cell_type": "code",
   "execution_count": null,
   "metadata": {},
   "outputs": [],
   "source": [
    "# Load the explanation based model\n",
    "NUM_CLASSES_EXP = 2 \n",
    "class_ind = 6\n",
    "model_dir = 'data/defender/fmnist/exp_model_data/for_target/' + str(class_ind) + '/model'\n",
    "pretrained_exp_model = model_dir+\"/exp_model.pt\"\n",
    "\n",
    "exp_model = Net(model_layers, num_classes=NUM_CLASSES_EXP).cuda()\n",
    "\n",
    "# Load the pretrained model\n",
    "exp_model.load_state_dict(torch.load(pretrained_exp_model))\n",
    "\n",
    "# Set the model in evaluation mode. In this case this is for the Dropout layers\n",
    "exp_model.eval()\n"
   ]
  },
  {
   "cell_type": "code",
   "execution_count": null,
   "metadata": {},
   "outputs": [],
   "source": [
    "np.max(cam)"
   ]
  },
  {
   "cell_type": "code",
   "execution_count": null,
   "metadata": {},
   "outputs": [],
   "source": [
    "input_intr = cam\n",
    "input_intr = input_intr/255.\n",
    "input_intr = input_intr.reshape(-1,28,28,1)\n",
    "input_intr = np.transpose(input_intr, (0,3,1,2))\n",
    "\n",
    "print('input_intr.shape',input_intr.shape) #(1, 1, 28, 28)\n",
    "\n",
    "input_intr_tensor = torch.from_numpy(input_intr)\n",
    "print('input_intr_tensor.shape: ', input_intr_tensor.shape)\n",
    "\n",
    "input_intr_tensor = input_intr_tensor.float().cuda()\n",
    "\n",
    "intr_pred = exp_model(input_intr_tensor)\n",
    "index = np.argmax(intr_pred.cpu().data.numpy())\n",
    "index_prob = torch.nn.functional.softmax(intr_pred)[0][index]\n",
    "\n",
    "print('Classification: {} with probability:{}'.format(index, index_prob))"
   ]
  },
  {
   "cell_type": "code",
   "execution_count": null,
   "metadata": {},
   "outputs": [],
   "source": [
    "torch.max(input_intr_tensor)"
   ]
  },
  {
   "cell_type": "code",
   "execution_count": null,
   "metadata": {},
   "outputs": [],
   "source": [
    "torch.min(input_intr_tensor)"
   ]
  }
 ],
 "metadata": {
  "kernelspec": {
   "display_name": "tf-gpu",
   "language": "python",
   "name": "tf-gpu"
  },
  "language_info": {
   "codemirror_mode": {
    "name": "ipython",
    "version": 3
   },
   "file_extension": ".py",
   "mimetype": "text/x-python",
   "name": "python",
   "nbconvert_exporter": "python",
   "pygments_lexer": "ipython3",
   "version": "3.6.9"
  }
 },
 "nbformat": 4,
 "nbformat_minor": 2
}
