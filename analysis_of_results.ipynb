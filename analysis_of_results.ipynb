{
 "cells": [
  {
   "cell_type": "markdown",
   "metadata": {},
   "source": [
    "# Analysis of apative attack results"
   ]
  },
  {
   "cell_type": "code",
   "execution_count": 1,
   "metadata": {},
   "outputs": [],
   "source": [
    "import numpy as np"
   ]
  },
  {
   "cell_type": "code",
   "execution_count": 5,
   "metadata": {},
   "outputs": [],
   "source": [
    "def analyzeResultsAdaptiveAttack(dataset):\n",
    "    computed_l2s_all = [] \n",
    "    success_record_all = []\n",
    "    for target_class in range(10):\n",
    "        folderpath = 'results/adaptive/' + dataset + '/' + str(target_class)\n",
    "        computed_l2s = np.load(folderpath + '/computed_l2s.npy')\n",
    "        success_record = np.load(folderpath + '/success_record.npy')\n",
    "        computed_l2s_all.extend(computed_l2s)\n",
    "        success_record_all.extend(success_record)\n",
    "\n",
    "    computed_l2s_all = np.array(computed_l2s_all)\n",
    "    success_record_all = np.array(success_record_all)\n",
    "\n",
    "    # success rate of attack\n",
    "    attack_succ_rate = len(np.where(success_record_all == True)[0])*100/len(success_record_all)\n",
    "    print('success rate of attack is {}%'.format(attack_succ_rate))\n",
    "\n",
    "    indices_of_succ_attak = np.where(success_record_all == True)[0]\n",
    "    l2s_of_succ_attack = computed_l2s_all[indices_of_succ_attak]\n",
    "\n",
    "    # mean l2 of succ attack\n",
    "    mean_l2_succ_attack = np.mean(l2s_of_succ_attack)\n",
    "    print('mean l2 of successful attacks is {}%'.format(mean_l2_succ_attack))"
   ]
  },
  {
   "cell_type": "code",
   "execution_count": 12,
   "metadata": {},
   "outputs": [],
   "source": [
    "def analyzeResultsNonAdaptiveAttack(dataset):\n",
    "    folderpath = 'results/non_adaptive/' + dataset + '/'\n",
    "    \n",
    "    computed_l2s_all = np.load(folderpath + '/computed_l2s.npy')\n",
    "    success_record_all = np.load(folderpath + '/success_record.npy')\n",
    "    \n",
    "    # success rate of attack\n",
    "    attack_succ_rate = len(np.where(success_record_all == True)[0])*100/len(success_record_all)\n",
    "    print('success rate of attack is {}%'.format(attack_succ_rate))\n",
    "\n",
    "    indices_of_succ_attak = np.where(success_record_all == True)[0]\n",
    "    l2s_of_succ_attack = computed_l2s_all[indices_of_succ_attak]\n",
    "\n",
    "    # mean l2 of succ attack\n",
    "    mean_l2_succ_attack = np.mean(l2s_of_succ_attack)\n",
    "    print('mean l2 of successful attacks is {}%'.format(mean_l2_succ_attack))"
   ]
  },
  {
   "cell_type": "markdown",
   "metadata": {},
   "source": [
    "## Adaptive attack"
   ]
  },
  {
   "cell_type": "markdown",
   "metadata": {},
   "source": [
    "### FMNIST"
   ]
  },
  {
   "cell_type": "code",
   "execution_count": 6,
   "metadata": {},
   "outputs": [
    {
     "name": "stdout",
     "output_type": "stream",
     "text": [
      "success rate of attack is 60.4%\n",
      "mean l2 of successful attacks is 5.166147232055664%\n"
     ]
    }
   ],
   "source": [
    "analyzeResultsAdaptiveAttack('fmnist')"
   ]
  },
  {
   "cell_type": "markdown",
   "metadata": {},
   "source": [
    "### MNIST"
   ]
  },
  {
   "cell_type": "code",
   "execution_count": 7,
   "metadata": {},
   "outputs": [
    {
     "name": "stdout",
     "output_type": "stream",
     "text": [
      "success rate of attack is 58.7%\n",
      "mean l2 of successful attacks is 6.627012729644775%\n"
     ]
    }
   ],
   "source": [
    "analyzeResultsAdaptiveAttack('mnist')"
   ]
  },
  {
   "cell_type": "markdown",
   "metadata": {},
   "source": [
    "## Non-adaptive"
   ]
  },
  {
   "cell_type": "markdown",
   "metadata": {},
   "source": [
    "### FMNIST"
   ]
  },
  {
   "cell_type": "code",
   "execution_count": 13,
   "metadata": {},
   "outputs": [
    {
     "name": "stdout",
     "output_type": "stream",
     "text": [
      "success rate of attack is 100.0%\n",
      "mean l2 of successful attacks is 3.6199066638946533%\n"
     ]
    }
   ],
   "source": [
    "analyzeResultsNonAdaptiveAttack('fmnist')"
   ]
  },
  {
   "cell_type": "markdown",
   "metadata": {},
   "source": [
    "### MNIST"
   ]
  },
  {
   "cell_type": "code",
   "execution_count": 14,
   "metadata": {},
   "outputs": [
    {
     "name": "stdout",
     "output_type": "stream",
     "text": [
      "success rate of attack is 100.0%\n",
      "mean l2 of successful attacks is 5.198326110839844%\n"
     ]
    }
   ],
   "source": [
    "analyzeResultsNonAdaptiveAttack('mnist')"
   ]
  }
 ],
 "metadata": {
  "kernelspec": {
   "display_name": "Python 3",
   "language": "python",
   "name": "python3"
  },
  "language_info": {
   "codemirror_mode": {
    "name": "ipython",
    "version": 3
   },
   "file_extension": ".py",
   "mimetype": "text/x-python",
   "name": "python",
   "nbconvert_exporter": "python",
   "pygments_lexer": "ipython3",
   "version": "3.7.6"
  }
 },
 "nbformat": 4,
 "nbformat_minor": 4
}
